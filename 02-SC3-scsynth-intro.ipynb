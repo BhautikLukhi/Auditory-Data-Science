{
 "cells": [
  {
   "cell_type": "code",
   "execution_count": 1,
   "metadata": {},
   "outputs": [],
   "source": [
    "import sc3nb as scn"
   ]
  },
  {
   "cell_type": "code",
   "execution_count": 13,
   "metadata": {},
   "outputs": [
    {
     "ename": "NameError",
     "evalue": "name 'sc' is not defined",
     "output_type": "error",
     "traceback": [
      "\u001b[0;31m---------------------------------------------------------------------------\u001b[0m",
      "\u001b[0;31mNameError\u001b[0m                                 Traceback (most recent call last)",
      "Cell \u001b[0;32mIn[13], line 1\u001b[0m\n\u001b[0;32m----> 1\u001b[0m sc\u001b[38;5;241m.\u001b[39mexit()\n",
      "\u001b[0;31mNameError\u001b[0m: name 'sc' is not defined"
     ]
    }
   ],
   "source": [
    "sc.exit()"
   ]
  },
  {
   "cell_type": "code",
   "execution_count": 2,
   "metadata": {
    "scrolled": true
   },
   "outputs": [
    {
     "data": {
      "application/javascript": "if (typeof Jupyter !== 'undefined') {\n                        Jupyter.keyboard_manager.command_shortcuts.add_shortcut(\n                        'cmd-.', {\n                        help : 'Free all nodes on SC server',\n                        help_index : 'zz',\n                        handler : function (event) {\n                            IPython.notebook.kernel.execute(\n                                \"import sc3nb; sc3nb.SC.get_default().server.free_all(root=True)\"\n                            )\n                            return true;}\n                        });\n                    }",
      "text/plain": [
       "<IPython.core.display.Javascript object>"
      ]
     },
     "metadata": {},
     "output_type": "display_data"
    },
    {
     "name": "stderr",
     "output_type": "stream",
     "text": [
      "Found old process. Please exit sc3nb via sc.exit(). \n",
      " Terminating psutil.Process(pid=23215, name='sclang', status='running', started='13:16:01') because none of the parents=[psutil.Process(pid=23212, name='SuperCollider', status='running', started='13:16:00'), psutil.Process(pid=1, name='launchd', status='running', started='2025-04-10 15:55:38'), psutil.Process(pid=0, name='kernel_task', status='running', started='2025-04-10 15:55:38')] are in allowed_parents=('scide', 'python', 'tox') More information can be found in the documentation.\n"
     ]
    },
    {
     "name": "stdout",
     "output_type": "stream",
     "text": [
      "Starting sclang process... [sclang | start reading ]\n",
      "Done.\n",
      "Registering OSC /return callback in sclang... Done.\n",
      "Loading default sc3nb SynthDefs... Done.\n",
      "Booting SuperCollider Server... [scsynth | start reading ]\n",
      "Done.\n"
     ]
    }
   ],
   "source": [
    "import sc3nb as scn\n",
    "\n",
    "sc = scn.startup()\n"
   ]
  },
  {
   "cell_type": "code",
   "execution_count": 5,
   "metadata": {},
   "outputs": [
    {
     "name": "stdout",
     "output_type": "stream",
     "text": [
      "[scsynth | reached EOF ]\n",
      "[sclang | reached EOF ]\n"
     ]
    }
   ],
   "source": [
    "sc.server.blip()"
   ]
  },
  {
   "cell_type": "code",
   "execution_count": 8,
   "metadata": {},
   "outputs": [
    {
     "name": "stdout",
     "output_type": "stream",
     "text": [
      "-> a Stethoscope\n"
     ]
    }
   ],
   "source": [
    "%sc FreqScope(300); s.scope;"
   ]
  },
  {
   "cell_type": "markdown",
   "metadata": {},
   "source": [
    "# Sound Synthesis with SuperCollider - crash course"
   ]
  },
  {
   "cell_type": "markdown",
   "metadata": {},
   "source": [
    "**Learning Goals for today:**\n",
    "* familiarize with fundamental audio-concepts in SC3\n",
    "    * understand audio rate and control rate\n",
    "    * understand how a graph of UGens is specified via a function in sclang\n",
    "* learn the fundamental elements of a synthesizer\n",
    "    * use the SC3 help system\n",
    "    * continued in lecture\n",
    "* get to know various interaction styles for controlling synths\n",
    "    * via OSC messages, via Synth class, implicit function style, JIT ProxySpace, Patterns\n",
    "* to be able to actively solve a synthesis task: e.g. synthesis of a water drop sound\n",
    "* so that you understand the concepts and underlying 'mechanics'"
   ]
  },
  {
   "cell_type": "markdown",
   "metadata": {},
   "source": [
    "## scSynth-Structure"
   ]
  },
  {
   "cell_type": "markdown",
   "metadata": {},
   "source": [
    "efficient program for audio rendering \n",
    "* No SC code\n",
    "* No Object\n",
    "* No OOP\n",
    "\n",
    "Only via Open Sound Control (OSC) controllable (via udp or tcp)."
   ]
  },
  {
   "cell_type": "markdown",
   "metadata": {},
   "source": [
    "**Setup**\n",
    "<img src=\"SC3-scsynth-intro-media/scsynth-overview.png\" width=\"70%\">"
   ]
  },
  {
   "cell_type": "markdown",
   "metadata": {},
   "source": [
    "**Node**\n",
    "* addressable object in a tree "
   ]
  },
  {
   "cell_type": "markdown",
   "metadata": {},
   "source": [
    "**Group** \t: Node\n",
    "* List of nodes\n",
    "* All Controls that are send to a group\n",
    "    * are forwarded to the internal nodes"
   ]
  },
  {
   "cell_type": "markdown",
   "metadata": {},
   "source": [
    "**Synth**\t\t: Node\n",
    "* tree structure\n",
    "*  consists of unit generators (UGens)"
   ]
  },
  {
   "cell_type": "markdown",
   "metadata": {},
   "source": [
    "**Synth Definition**\n",
    "* contains the rules at hand of which a synth is created\n",
    "* has a name (char*)"
   ]
  },
  {
   "cell_type": "markdown",
   "metadata": {},
   "source": [
    "**Audio Bus**\n",
    "* indexed by integers (0 up to …)\n",
    "* usually 128\n",
    "    * 0 .. numOutChannel-1\n",
    "        * -> HW-Output\n",
    "    * numOutChannel .. numOutChannel+numInChannel-1\n",
    "        * -> HW-Input\n",
    "\t* beyond: private busses\n",
    "\t* In/Out.ar UGens can access (read / write)"
   ]
  },
  {
   "cell_type": "markdown",
   "metadata": {},
   "source": [
    "**Control Bus**\n",
    "* usually 1024\n",
    "* In.kr/Out.kr UGens can access either read / write "
   ]
  },
  {
   "cell_type": "markdown",
   "metadata": {},
   "source": [
    "**Buffer**\n",
    "* 32bit Float Arrays + header\n",
    "* numbered\n",
    "* non-RT instantiation and destruction\n",
    "* Guaranteed access from the synth \n",
    "    * even during instantiation\n",
    "* used for \n",
    "    * wave tables\n",
    "\t* sample buffers\n",
    "\t* delay lines\n",
    "\t* envelopes\n",
    "\t* …"
   ]
  },
  {
   "cell_type": "markdown",
   "metadata": {},
   "source": [
    "**Unit Generator Definitions**\n",
    "* Plugins\n",
    "* binary code libs\n",
    "* names matching scLang classes used in building SynthDefs"
   ]
  },
  {
   "cell_type": "markdown",
   "metadata": {},
   "source": [
    "<img src=\"SC3-scsynth-intro-media/synth-nodes.png\" width=\"70%\"><br>"
   ]
  },
  {
   "cell_type": "markdown",
   "metadata": {},
   "source": [
    "<img src=\"SC3-scsynth-intro-media/synth-example.png\" width=\"50%\"><br>"
   ]
  },
  {
   "cell_type": "markdown",
   "metadata": {},
   "source": [
    "**Example (for the above shown figure as sclang code**:"
   ]
  },
  {
   "cell_type": "code",
   "execution_count": 9,
   "metadata": {},
   "outputs": [
    {
     "name": "stdout",
     "output_type": "stream",
     "text": [
      "SCDoc: Indexing help-files...\n",
      "SCDoc: Indexed 1367 documents in 0.34 seconds\n",
      "-> Clip\n"
     ]
    }
   ],
   "source": [
    "%sc Clip.help "
   ]
  },
  {
   "cell_type": "code",
   "execution_count": 10,
   "metadata": {},
   "outputs": [
    {
     "name": "stdout",
     "output_type": "stream",
     "text": [
      "-> sc3nb_remote\n"
     ]
    }
   ],
   "source": [
    "%sc s.makeGui"
   ]
  },
  {
   "cell_type": "code",
   "execution_count": 11,
   "metadata": {},
   "outputs": [
    {
     "name": "stdout",
     "output_type": "stream",
     "text": [
      "-> a SynthDef\n"
     ]
    }
   ],
   "source": [
    "%%scv\n",
    "SynthDef(\"mySynth\", { |freq=200, amp=0.1, sFreq=1| \n",
    "    Out.ar([0,1], SinOsc.ar(freq: freq, mul: amp) \n",
    "           * Clip.ar(Saw.ar(freq: sFreq, mul: 5)));\n",
    "}).send(s)"
   ]
  },
  {
   "cell_type": "markdown",
   "metadata": {},
   "source": [
    "more transparently formatted:"
   ]
  },
  {
   "cell_type": "code",
   "execution_count": 12,
   "metadata": {},
   "outputs": [
    {
     "name": "stdout",
     "output_type": "stream",
     "text": [
      "-> a SynthDef\n"
     ]
    }
   ],
   "source": [
    "%%scv\n",
    "SynthDef(\\mySynth, {|freq=200, amp=0.2, sFreq=1| \n",
    "    Out.ar(\n",
    "        0,\n",
    "        SinOsc.ar(freq, mul:amp)\n",
    "        * \n",
    "        Clip.ar(Saw.ar(sFreq, 5))\n",
    "        * 1!4  // 1.dup(4)\n",
    "    );\n",
    "}).send(s);"
   ]
  },
  {
   "cell_type": "code",
   "execution_count": 13,
   "metadata": {},
   "outputs": [
    {
     "name": "stdout",
     "output_type": "stream",
     "text": [
      "-> [ 1, 1, 1, 1, 1 ]\n"
     ]
    }
   ],
   "source": [
    "%sc 1.dup(5) // --> [1,1,1,1,1] , also written as 1!5"
   ]
  },
  {
   "cell_type": "markdown",
   "metadata": {},
   "source": [
    "this is how to use a synth"
   ]
  },
  {
   "cell_type": "code",
   "execution_count": 14,
   "metadata": {},
   "outputs": [
    {
     "name": "stdout",
     "output_type": "stream",
     "text": [
      "-> Synth('mySynth' : 1006)\n"
     ]
    }
   ],
   "source": [
    "%sc x = Synth(\\mySynth) // creates an instance "
   ]
  },
  {
   "cell_type": "code",
   "execution_count": 15,
   "metadata": {},
   "outputs": [
    {
     "name": "stdout",
     "output_type": "stream",
     "text": [
      "-> Synth('mySynth' : 1006)\n"
     ]
    }
   ],
   "source": [
    "%sc x"
   ]
  },
  {
   "cell_type": "code",
   "execution_count": 16,
   "metadata": {},
   "outputs": [
    {
     "name": "stdout",
     "output_type": "stream",
     "text": [
      "-> Synth('mySynth' : 1006)\n"
     ]
    }
   ],
   "source": [
    "%sc x.set(\\freq, 1800, \\amp, 0.01, \\sFreq, 30) // parameter update"
   ]
  },
  {
   "cell_type": "code",
   "execution_count": 17,
   "metadata": {},
   "outputs": [
    {
     "name": "stdout",
     "output_type": "stream",
     "text": [
      "-> Synth('mySynth' : 1006)\n"
     ]
    }
   ],
   "source": [
    "%sc x.set(\\freq, 2000, \\amp, 0.1, \\sFreq, 20) // parameter update"
   ]
  },
  {
   "cell_type": "code",
   "execution_count": 18,
   "metadata": {},
   "outputs": [
    {
     "name": "stdout",
     "output_type": "stream",
     "text": [
      "-> a Stethoscope\n"
     ]
    }
   ],
   "source": [
    "%sc s.scope"
   ]
  },
  {
   "cell_type": "markdown",
   "metadata": {},
   "source": [
    "Let's understand what it does:\n",
    "- Saw is a negative ramp, here from 5 to -5\n",
    "- Clip clips default by 0 and 1\n",
    "- check scope to see waveform"
   ]
  },
  {
   "cell_type": "code",
   "execution_count": 19,
   "metadata": {},
   "outputs": [
    {
     "name": "stdout",
     "output_type": "stream",
     "text": [
      "-> Synth('mySynth' : 1006)\n"
     ]
    }
   ],
   "source": [
    "%sc x.free // termininate and deletes an instance "
   ]
  },
  {
   "cell_type": "code",
   "execution_count": 20,
   "metadata": {},
   "outputs": [
    {
     "name": "stdout",
     "output_type": "stream",
     "text": [
      "-> a Plotter\n"
     ]
    }
   ],
   "source": [
    "%sc {Saw.kr(10, 5)}.plot(0.3)"
   ]
  },
  {
   "cell_type": "code",
   "execution_count": 19,
   "metadata": {},
   "outputs": [
    {
     "name": "stdout",
     "output_type": "stream",
     "text": [
      "-> Saw\n"
     ]
    }
   ],
   "source": [
    "%sc Saw.help"
   ]
  },
  {
   "cell_type": "markdown",
   "metadata": {},
   "source": [
    "different programming techniques in SC\n",
    "(based on <http://swiki.hfbk-hamburg.de:8888/MusicTechnology/571 by jrh)"
   ]
  },
  {
   "cell_type": "markdown",
   "metadata": {},
   "source": [
    "## Interaction Styles"
   ]
  },
  {
   "cell_type": "markdown",
   "metadata": {},
   "source": [
    "### function-style low-level via OSC"
   ]
  },
  {
   "cell_type": "code",
   "execution_count": 127,
   "metadata": {},
   "outputs": [
    {
     "name": "stdout",
     "output_type": "stream",
     "text": [
      "-> Server\n"
     ]
    }
   ],
   "source": [
    "%sc Server.help"
   ]
  },
  {
   "cell_type": "code",
   "execution_count": 128,
   "metadata": {},
   "outputs": [
    {
     "name": "stdout",
     "output_type": "stream",
     "text": [
      "-> sc3nb_remote\n"
     ]
    }
   ],
   "source": [
    "%scv s.sendMsg(\"/s_new\", \"mySynth\", 1020, 0, 1, \"freq\", 300, \"amp\", 0.1);"
   ]
  },
  {
   "cell_type": "code",
   "execution_count": 129,
   "metadata": {},
   "outputs": [
    {
     "name": "stdout",
     "output_type": "stream",
     "text": [
      "-> sc3nb_remote\n"
     ]
    }
   ],
   "source": [
    "%%sc\n",
    "s.sendMsg(\"/n_set\", 1020, \"freq\", 400, \"sFreq\", 1.5, \"amp\", 0.1);"
   ]
  },
  {
   "cell_type": "code",
   "execution_count": 130,
   "metadata": {},
   "outputs": [
    {
     "name": "stdout",
     "output_type": "stream",
     "text": [
      "-> sc3nb_remote\n"
     ]
    }
   ],
   "source": [
    "%sc s.sendMsg(\"/n_free\", 1020);"
   ]
  },
  {
   "cell_type": "code",
   "execution_count": 24,
   "metadata": {},
   "outputs": [],
   "source": [
    "%scs Server.help // see Server Command Reference"
   ]
  },
  {
   "cell_type": "markdown",
   "metadata": {},
   "source": [
    "* (+) no Overhead (fast!)\n",
    "* (+) ideal for Granular synthesis\n",
    "* (–) no OO Methods useable, really low-level interface\n",
    "* (–) no dynamic allocation of synths"
   ]
  },
  {
   "cell_type": "markdown",
   "metadata": {},
   "source": [
    "### function-style via Synth class"
   ]
  },
  {
   "cell_type": "code",
   "execution_count": 135,
   "metadata": {},
   "outputs": [
    {
     "name": "stdout",
     "output_type": "stream",
     "text": [
      "-> Synth\n"
     ]
    }
   ],
   "source": [
    "%sc Synth.help"
   ]
  },
  {
   "cell_type": "code",
   "execution_count": 131,
   "metadata": {},
   "outputs": [
    {
     "name": "stdout",
     "output_type": "stream",
     "text": [
      "-> Synth('mySynth' : 1007)\n"
     ]
    }
   ],
   "source": [
    "%sc x = Synth(\\mySynth)"
   ]
  },
  {
   "cell_type": "code",
   "execution_count": 132,
   "metadata": {},
   "outputs": [
    {
     "name": "stdout",
     "output_type": "stream",
     "text": [
      "-> Synth('mySynth' : 1007)\n"
     ]
    }
   ],
   "source": [
    "%sc x.set(\\freq, 800, \\amp, 0.05, \\sFreq, 802)"
   ]
  },
  {
   "cell_type": "code",
   "execution_count": 133,
   "metadata": {},
   "outputs": [
    {
     "name": "stdout",
     "output_type": "stream",
     "text": [
      "-> Synth('mySynth' : 1007)\n"
     ]
    }
   ],
   "source": [
    "%sc x.free"
   ]
  },
  {
   "cell_type": "code",
   "execution_count": 134,
   "metadata": {},
   "outputs": [
    {
     "name": "stdout",
     "output_type": "stream",
     "text": [
      "-> 1007\n"
     ]
    }
   ],
   "source": [
    "%scv x.nodeID"
   ]
  },
  {
   "cell_type": "code",
   "execution_count": 136,
   "metadata": {},
   "outputs": [
    {
     "name": "stdout",
     "output_type": "stream",
     "text": [
      "-> [ Synth('mySynth' : 1008), Synth('mySynth' : 1009), Synth('mySynth' : 1010), Synth('mySynth' : 1011), Synth('mySynth' : 1012) ]\n"
     ]
    }
   ],
   "source": [
    "%%scv \n",
    "~xarr = 5.collect{\n",
    "    Synth(\\mySynth, [\\freq, 500.rand, \\amp, 0.06, \\sFreq, 10.0.rand])}"
   ]
  },
  {
   "cell_type": "code",
   "execution_count": 145,
   "metadata": {},
   "outputs": [
    {
     "name": "stdout",
     "output_type": "stream",
     "text": [
      "-> Synth('mySynth' : 1012)\n"
     ]
    }
   ],
   "source": [
    "%scv ~xarr[4].free"
   ]
  },
  {
   "cell_type": "code",
   "execution_count": 146,
   "metadata": {},
   "outputs": [
    {
     "name": "stdout",
     "output_type": "stream",
     "text": [
      "1008\n",
      "1009\n",
      "1010\n",
      "1011\n",
      "1012\n",
      "-> [ Synth('mySynth' : 1008), Synth('mySynth' : 1009), Synth('mySynth' : 1010), Synth('mySynth' : 1011), Synth('mySynth' : 1012) ]\n"
     ]
    }
   ],
   "source": [
    "%scv ~xarr.do{|r| r.nodeID.postln}"
   ]
  },
  {
   "cell_type": "code",
   "execution_count": 32,
   "metadata": {},
   "outputs": [
    {
     "name": "stdout",
     "output_type": "stream",
     "text": [
      "-> Synth('mySynth' : 1012)\n"
     ]
    }
   ],
   "source": [
    "%sc ~xarr[4].set(\\freq, 1000, \\sFreq, 50)"
   ]
  },
  {
   "cell_type": "markdown",
   "metadata": {},
   "source": [
    "* (+) OO functionality \n",
    "* (+) hidden Interface between sclang und scsynth\n",
    "* (+) better readability of code \n",
    "* (+) ID Management hidden \n",
    "* (–) Overhead (opposed to message-style invocation)"
   ]
  },
  {
   "cell_type": "code",
   "execution_count": 33,
   "metadata": {},
   "outputs": [
    {
     "name": "stdout",
     "output_type": "stream",
     "text": [
      "-> [ Synth('mySynth' : 1008), Synth('mySynth' : 1009), Synth('mySynth' : 1010), Synth('mySynth' : 1011), Synth('mySynth' : 1012) ]\n"
     ]
    }
   ],
   "source": [
    "%sc ~xarr.do{|i| i.free}"
   ]
  },
  {
   "cell_type": "markdown",
   "metadata": {},
   "source": [
    "### function-style with implicit Synth creation"
   ]
  },
  {
   "cell_type": "code",
   "execution_count": 151,
   "metadata": {},
   "outputs": [
    {
     "name": "stdout",
     "output_type": "stream",
     "text": [
      "-> Synth('temp__12' : 1028)\n"
     ]
    }
   ],
   "source": [
    "%sc {SinOsc.ar(300, mul: 0.05)}.play"
   ]
  },
  {
   "cell_type": "code",
   "execution_count": 148,
   "metadata": {},
   "outputs": [
    {
     "name": "stdout",
     "output_type": "stream",
     "text": [
      "-> Synth('temp__1' : 1015)\n"
     ]
    }
   ],
   "source": [
    "%%scv\n",
    "x = {\n",
    "    SinOsc.ar(400, 0, 0.2) \n",
    "    * SinOsc.ar(freq: SinOsc.ar(0.2).range(20)!2)\n",
    "}.play"
   ]
  },
  {
   "cell_type": "code",
   "execution_count": 36,
   "metadata": {},
   "outputs": [
    {
     "name": "stdout",
     "output_type": "stream",
     "text": [
      "-> Synth('temp__1' : 1014)\n"
     ]
    }
   ],
   "source": [
    "%sc x.free"
   ]
  },
  {
   "cell_type": "markdown",
   "metadata": {},
   "source": [
    "* (+) fast to write \n",
    "* (-) lot of overhead:\n",
    "    * all Synths are created out of temporary synthdefs "
   ]
  },
  {
   "cell_type": "markdown",
   "metadata": {},
   "source": [
    "### JITLib-style"
   ]
  },
  {
   "cell_type": "code",
   "execution_count": 37,
   "metadata": {},
   "outputs": [
    {
     "name": "stdout",
     "output_type": "stream",
     "text": [
      "-> ProxySpace ()\n"
     ]
    }
   ],
   "source": [
    "%scv p = ProxySpace.push(s);"
   ]
  },
  {
   "cell_type": "code",
   "execution_count": 38,
   "metadata": {},
   "outputs": [
    {
     "name": "stdout",
     "output_type": "stream",
     "text": [
      "-> NodeProxy.audio(sc3nb_remote, 2)\n"
     ]
    }
   ],
   "source": [
    "%scv ~x.play"
   ]
  },
  {
   "cell_type": "code",
   "execution_count": 39,
   "metadata": {},
   "outputs": [
    {
     "name": "stdout",
     "output_type": "stream",
     "text": [
      "-> a Function\n"
     ]
    }
   ],
   "source": [
    "%scv ~x = {SinOsc.ar(~lfo.ar * 106, mul: 0.05)}"
   ]
  },
  {
   "cell_type": "code",
   "execution_count": 40,
   "metadata": {},
   "outputs": [
    {
     "name": "stdout",
     "output_type": "stream",
     "text": [
      "-> a Function\n"
     ]
    }
   ],
   "source": [
    "%scv ~lfo = {Pulse.ar(MouseY.kr(1,10), mul: MouseX.kr(1,10))!2}"
   ]
  },
  {
   "cell_type": "markdown",
   "metadata": {},
   "source": [
    "now components can be replaced and changed while the sound is continuously rendered:"
   ]
  },
  {
   "cell_type": "code",
   "execution_count": 41,
   "metadata": {},
   "outputs": [
    {
     "name": "stdout",
     "output_type": "stream",
     "text": [
      "-> a Function\n"
     ]
    }
   ],
   "source": [
    "%scv ~x = {Blip.ar(~lfo.ar * 106, mul: 0.2, numharm: 2)}"
   ]
  },
  {
   "cell_type": "code",
   "execution_count": 42,
   "metadata": {},
   "outputs": [
    {
     "name": "stdout",
     "output_type": "stream",
     "text": [
      "-> a Function\n"
     ]
    }
   ],
   "source": [
    "%sc ~lfo = {SinOsc.ar(6)!2}"
   ]
  },
  {
   "cell_type": "code",
   "execution_count": 43,
   "metadata": {},
   "outputs": [
    {
     "name": "stdout",
     "output_type": "stream",
     "text": [
      "-> NodeProxy.audio(sc3nb_remote, 2)\n"
     ]
    }
   ],
   "source": [
    "%scv ~x.free"
   ]
  },
  {
   "cell_type": "markdown",
   "metadata": {},
   "source": [
    "* (+) rapid prototyping\n",
    "* (+) live coding\n",
    "* (+) little code overhead\n",
    "* (+) maintains settings independent from the content \n",
    "* (+) lazy environment\n",
    "* (–) may encourages people to write inefficient code\n",
    "* (–) reusability is difficult to implement"
   ]
  },
  {
   "cell_type": "code",
   "execution_count": 152,
   "metadata": {},
   "outputs": [
    {
     "name": "stdout",
     "output_type": "stream",
     "text": [
      "-> a SynthDef\n"
     ]
    }
   ],
   "source": [
    "%%sc\n",
    "SynthDef(\\braap, {|freq = 70, out = 0, sustain = 0.3, amp = 0.1| \n",
    "    var line;\n",
    "    \n",
    "    line = EnvGen.kr(Env.perc(sustain, 0.01, 8, -4), doneAction: 2); \n",
    "    \n",
    "    Out.ar(out, (SinOsc.ar(freq) * line).softclip!2 * amp)\n",
    "}).store"
   ]
  },
  {
   "cell_type": "code",
   "execution_count": 153,
   "metadata": {},
   "outputs": [],
   "source": [
    "%scs (instrument: \\braap, freq: 130).play // event"
   ]
  },
  {
   "cell_type": "code",
   "execution_count": 154,
   "metadata": {},
   "outputs": [],
   "source": [
    "%scs (instrument: \\braap, freq: 230, sustain: 2).play // event"
   ]
  },
  {
   "cell_type": "code",
   "execution_count": 155,
   "metadata": {},
   "outputs": [],
   "source": [
    "%scs (instrument: \\braap, freq: 430, sustain: 0.2).play // event"
   ]
  },
  {
   "cell_type": "code",
   "execution_count": 156,
   "metadata": {},
   "outputs": [],
   "source": [
    "%scs (instrument: \\braap, freq: [54, 575]).play // event"
   ]
  },
  {
   "cell_type": "code",
   "execution_count": 158,
   "metadata": {},
   "outputs": [],
   "source": [
    "%scs (instrument: \\braap, midinote: 69).play // event"
   ]
  },
  {
   "cell_type": "code",
   "execution_count": 159,
   "metadata": {},
   "outputs": [],
   "source": [
    "%scs (instrument: \\braap, midinote: 35).play // event"
   ]
  },
  {
   "cell_type": "code",
   "execution_count": 161,
   "metadata": {},
   "outputs": [],
   "source": [
    "%scs Pseq([(instrument: \\braap, midinote: 70, dur: 0.1)], 8).play"
   ]
  },
  {
   "cell_type": "code",
   "execution_count": 162,
   "metadata": {},
   "outputs": [],
   "source": [
    "%%scs\n",
    "q = q ? ();\n",
    "q.l.stop;\n",
    "q.l = Pbind(\n",
    "    \\instrument, \\braap,\n",
    "    \\note, Pseq([12, 0, 12, 24], inf) + Pseq(([5, 3, -2, 1]!16).flop.flat, inf),\n",
    "    \\octave, [1, 3, 2, 4],\n",
    "    \\root, 12,\n",
    "    \\dur, Pseq([0.5, 0.1].normalizeSum * 0.25, inf),\n",
    "    \\amp, 0.1*[0.1, 0.08, Pseq([Pgeom(0, 0.01, 50)], inf), 0.1]\n",
    ").play"
   ]
  },
  {
   "cell_type": "code",
   "execution_count": 163,
   "metadata": {},
   "outputs": [
    {
     "name": "stdout",
     "output_type": "stream",
     "text": [
      "-> an EventStreamPlayer\n"
     ]
    }
   ],
   "source": [
    "%scv q.l.stop"
   ]
  },
  {
   "cell_type": "markdown",
   "metadata": {},
   "source": [
    "## Typical Elements of a synthesizer "
   ]
  },
  {
   "cell_type": "markdown",
   "metadata": {},
   "source": [
    "Tour of UGens: <https://doc.sccode.org/Guides/Tour_of_UGens.html>"
   ]
  },
  {
   "cell_type": "code",
   "execution_count": 54,
   "metadata": {},
   "outputs": [
    {
     "name": "stdout",
     "output_type": "stream",
     "text": [
      "-> FreqScope\n"
     ]
    }
   ],
   "source": [
    "%sc s.scope; FreqScope(400)"
   ]
  },
  {
   "cell_type": "code",
   "execution_count": 55,
   "metadata": {},
   "outputs": [
    {
     "name": "stdout",
     "output_type": "stream",
     "text": [
      "-> sc3nb_remote\n"
     ]
    }
   ],
   "source": [
    "%sc s.makeGui"
   ]
  },
  {
   "cell_type": "code",
   "execution_count": 56,
   "metadata": {},
   "outputs": [
    {
     "name": "stdout",
     "output_type": "stream",
     "text": [
      "-> sc3nb_remote\n"
     ]
    }
   ],
   "source": [
    "%sc s.plotTree"
   ]
  },
  {
   "cell_type": "code",
   "execution_count": 57,
   "metadata": {},
   "outputs": [
    {
     "name": "stdout",
     "output_type": "stream",
     "text": [
      "-> an ObjectInspector\n"
     ]
    }
   ],
   "source": [
    "%sc x.inspect"
   ]
  },
  {
   "cell_type": "markdown",
   "metadata": {},
   "source": [
    "### Oscillators "
   ]
  },
  {
   "cell_type": "code",
   "execution_count": 164,
   "metadata": {},
   "outputs": [
    {
     "name": "stdout",
     "output_type": "stream",
     "text": [
      "-> Synth('temp__13' : 1522)\n"
     ]
    }
   ],
   "source": [
    "%sc { SinOsc.ar(800, mul: 0.1, add: 0)!2}.play"
   ]
  },
  {
   "cell_type": "code",
   "execution_count": 59,
   "metadata": {},
   "outputs": [
    {
     "name": "stdout",
     "output_type": "stream",
     "text": [
      "-> Pulse\n"
     ]
    }
   ],
   "source": [
    "%sc Pulse.help"
   ]
  },
  {
   "cell_type": "code",
   "execution_count": 166,
   "metadata": {},
   "outputs": [
    {
     "name": "stdout",
     "output_type": "stream",
     "text": [
      "-> a Stethoscope\n"
     ]
    }
   ],
   "source": [
    "%sc s.scope"
   ]
  },
  {
   "cell_type": "code",
   "execution_count": 165,
   "metadata": {},
   "outputs": [
    {
     "name": "stdout",
     "output_type": "stream",
     "text": [
      "-> Synth('temp__14' : 1524)\n"
     ]
    }
   ],
   "source": [
    "%sc { Pulse.ar(200, MouseX.kr(0.01, 1), 0.1)!2 }.play"
   ]
  },
  {
   "cell_type": "code",
   "execution_count": 167,
   "metadata": {},
   "outputs": [
    {
     "name": "stdout",
     "output_type": "stream",
     "text": [
      "-> Synth('temp__15' : 1528)\n"
     ]
    }
   ],
   "source": [
    "%sc x = { LFPulse.ar(200, 0, MouseX.kr(0.01, 1), 0.05)!2 }.play"
   ]
  },
  {
   "cell_type": "code",
   "execution_count": 168,
   "metadata": {},
   "outputs": [
    {
     "name": "stdout",
     "output_type": "stream",
     "text": [
      "-> Synth('temp__16' : 1530)\n"
     ]
    }
   ],
   "source": [
    "%sc { Impulse.ar(MouseX.kr(1,4000))!2 }.play"
   ]
  },
  {
   "cell_type": "code",
   "execution_count": 169,
   "metadata": {},
   "outputs": [
    {
     "name": "stdout",
     "output_type": "stream",
     "text": [
      "-> Synth('temp__17' : 1532)\n"
     ]
    }
   ],
   "source": [
    "%sc { VarSaw.ar(600,0,MouseX.kr(0,1),0.1)!2 }.play"
   ]
  },
  {
   "cell_type": "code",
   "execution_count": 170,
   "metadata": {},
   "outputs": [
    {
     "name": "stdout",
     "output_type": "stream",
     "text": [
      "-> Synth('temp__18' : 1534)\n"
     ]
    }
   ],
   "source": [
    "x = %sc { 0.1* Blip.ar(MouseY.kr(200,5000), MouseX.kr(1,100), 0.5)!2}.play"
   ]
  },
  {
   "cell_type": "code",
   "execution_count": 171,
   "metadata": {},
   "outputs": [],
   "source": [
    "from ipywidgets import interactive"
   ]
  },
  {
   "cell_type": "code",
   "execution_count": 172,
   "metadata": {},
   "outputs": [
    {
     "name": "stdout",
     "output_type": "stream",
     "text": [
      "-> Synth('temp__19' : 1536)\n"
     ]
    },
    {
     "data": {
      "text/plain": [
       "()"
      ]
     },
     "execution_count": 172,
     "metadata": {},
     "output_type": "execute_result"
    }
   ],
   "source": [
    "%scg x = { | freq=200, num=1, amp=0.2 | Blip.ar(freq, num, amp)!2}.play"
   ]
  },
  {
   "cell_type": "code",
   "execution_count": 173,
   "metadata": {},
   "outputs": [
    {
     "name": "stdout",
     "output_type": "stream",
     "text": [
      "-> Blip\n"
     ]
    }
   ],
   "source": [
    "%sc Blip.help"
   ]
  },
  {
   "cell_type": "code",
   "execution_count": 174,
   "metadata": {},
   "outputs": [
    {
     "data": {
      "application/vnd.jupyter.widget-view+json": {
       "model_id": "c39fc36f43db4948b03442c84c611534",
       "version_major": 2,
       "version_minor": 0
      },
      "text/plain": [
       "interactive(children=(IntSlider(value=1, description='num', max=10, min=1), IntSlider(value=100, description='…"
      ]
     },
     "execution_count": 174,
     "metadata": {},
     "output_type": "execute_result"
    }
   ],
   "source": [
    "def setpars(num=1, freq=100, amp=0.2):\n",
    "    sc.lang.cmd(r\"x.set(\\num, ^p1)\", pyvars={\"p1\": num}, verbose=False)\n",
    "    sc.lang.cmd(r\"x.set(\\freq, ^p1)\", pyvars={\"p1\": freq}, verbose=False)\n",
    "    sc.lang.cmd(r\"x.set(\\amp, ^p1)\", pyvars={\"p1\": amp}, verbose=False)\n",
    "interactive(setpars, num=(1, 10, 1), freq=(100, 300, 1), amp=(0.01, 0.8, 0.02))"
   ]
  },
  {
   "cell_type": "code",
   "execution_count": 175,
   "metadata": {},
   "outputs": [
    {
     "name": "stdout",
     "output_type": "stream",
     "text": [
      "-> Synth('temp__19' : 1536)\n"
     ]
    }
   ],
   "source": [
    "%sc x.free"
   ]
  },
  {
   "cell_type": "markdown",
   "metadata": {},
   "source": [
    "### Spatialization, e.g. Pan2, PanAz "
   ]
  },
  {
   "cell_type": "code",
   "execution_count": 3,
   "metadata": {},
   "outputs": [
    {
     "name": "stdout",
     "output_type": "stream",
     "text": [
      "CDoc: Indexed 2230 documents in 2.41 seconds\n",
      "-> Pan2\n",
      "sc3> Pan2.help;\n"
     ]
    }
   ],
   "source": [
    "%sc Pan2.help"
   ]
  },
  {
   "cell_type": "code",
   "execution_count": 176,
   "metadata": {},
   "outputs": [
    {
     "name": "stdout",
     "output_type": "stream",
     "text": [
      "-> Synth('temp__20' : 1537)\n"
     ]
    }
   ],
   "source": [
    "%sc { Pan2.ar( WhiteNoise.ar(0.3), MouseX.kr(-1, 1), 0.2 ) }.play"
   ]
  },
  {
   "cell_type": "code",
   "execution_count": 15,
   "metadata": {},
   "outputs": [
    {
     "name": "stdout",
     "output_type": "stream",
     "text": [
      "-> Synth('temp__7' : 201327601)\n"
     ]
    }
   ],
   "source": [
    "%sc { Pan2.ar( SinOsc.ar(440), pos: 0, level: 0.5 )}.play"
   ]
  },
  {
   "cell_type": "code",
   "execution_count": 16,
   "metadata": {},
   "outputs": [
    {
     "name": "stdout",
     "output_type": "stream",
     "text": [
      "-> Synth('temp__8' : 201327602)\n"
     ]
    }
   ],
   "source": [
    "%sc { Pan2.ar( SinOsc.ar(440), pos: -1, level: 0.5 )}.play"
   ]
  },
  {
   "cell_type": "code",
   "execution_count": 17,
   "metadata": {},
   "outputs": [
    {
     "name": "stdout",
     "output_type": "stream",
     "text": [
      "-> Synth('temp__9' : 201327603)\n"
     ]
    }
   ],
   "source": [
    "%sc { Pan2.ar( SinOsc.ar(440), pos: MouseX.kr(-1,1), level: 0.5 )}.play"
   ]
  },
  {
   "cell_type": "markdown",
   "metadata": {},
   "source": [
    "### Envelopes  "
   ]
  },
  {
   "cell_type": "code",
   "execution_count": 177,
   "metadata": {},
   "outputs": [
    {
     "name": "stdout",
     "output_type": "stream",
     "text": [
      "-> EnvGen\n"
     ]
    }
   ],
   "source": [
    "# %sc {EnvGen.kr(Env.new([0,1,1,0], [2,2,0.1]))}.plot(4.1)\n",
    "# %sc {SinOsc.ar(10)}.plot(0.2)\n",
    "%sc EnvGen.help"
   ]
  },
  {
   "cell_type": "code",
   "execution_count": 178,
   "metadata": {},
   "outputs": [
    {
     "name": "stdout",
     "output_type": "stream",
     "text": [
      "-> a Plotter\n"
     ]
    }
   ],
   "source": [
    "%sc Env.new(levels: [0, 1, 0.9, 0], times: [0.1, 0.5, 1], curve: [5, 0, -5]).plot;"
   ]
  },
  {
   "cell_type": "code",
   "execution_count": 14,
   "metadata": {},
   "outputs": [
    {
     "name": "stdout",
     "output_type": "stream",
     "text": [
      "-> a Plotter\n"
     ]
    }
   ],
   "source": [
    "%%sc\n",
    "{ \n",
    "    EnvGen.kr(Env.new([0,1,1,0], [1,1,0.1]), 1.0, doneAction: 2) \n",
    "    * \n",
    "    SinOsc.ar(440, 0, 0.1)!2\n",
    "}.plot(2.1)"
   ]
  },
  {
   "cell_type": "code",
   "execution_count": 20,
   "metadata": {},
   "outputs": [
    {
     "name": "stdout",
     "output_type": "stream",
     "text": [
      "-> Synth('temp__11' : 201327606)\n"
     ]
    }
   ],
   "source": [
    "%%sc \n",
    "{ \n",
    "    var freqenv = EnvGen.kr(Env.new([0,1,1,0], [2,2,0.1]), 1.0, 2.0, doneAction: 2);  \n",
    "    SinOsc.ar(440*freqenv, 0, 0.3)!2\n",
    "}.play"
   ]
  },
  {
   "cell_type": "markdown",
   "metadata": {},
   "source": [
    "### putting things together"
   ]
  },
  {
   "cell_type": "code",
   "execution_count": 70,
   "metadata": {},
   "outputs": [
    {
     "name": "stdout",
     "output_type": "stream",
     "text": [
      "-> EnvGen\n"
     ]
    }
   ],
   "source": [
    "%sc EnvGen.help"
   ]
  },
  {
   "cell_type": "code",
   "execution_count": 179,
   "metadata": {},
   "outputs": [
    {
     "name": "stdout",
     "output_type": "stream",
     "text": [
      "-> a SynthDef\n"
     ]
    }
   ],
   "source": [
    "%%scv\n",
    "SynthDef(\"mysyn\", { | freq=400, amp=0.5, att=0.1, dur=2, rel=0.5, pan=0 |\n",
    "    var sig, env; \n",
    "    sig = SinOsc.ar(freq);\n",
    "    env = EnvGen.kr(Env.new([0,1,1,0], [att, dur-att-rel, rel]), \n",
    "                    levelScale: amp, doneAction: 2);\n",
    "    Out.ar(0, Pan2.ar(sig, pan, env))\n",
    "}).send(s)"
   ]
  },
  {
   "cell_type": "code",
   "execution_count": 184,
   "metadata": {},
   "outputs": [
    {
     "name": "stdout",
     "output_type": "stream",
     "text": [
      "-> Synth('mysyn' : 1543)\n"
     ]
    }
   ],
   "source": [
    "%sc x = Synth.new(\\mysyn, [\\pan, -1, \\freq, 1500, \\dur, 0.2, \\att, 0.001, \\pan, -1])"
   ]
  },
  {
   "cell_type": "code",
   "execution_count": 194,
   "metadata": {},
   "outputs": [
    {
     "name": "stdout",
     "output_type": "stream",
     "text": [
      "-> a Routine\n",
      "[sclang | reached EOF ]\n"
     ]
    }
   ],
   "source": [
    "%%sc \n",
    "{ 150.do{ \n",
    "    Synth.new(\\mysyn, [\n",
    "        \\freq, (40.rand+60).midicps, \n",
    "        \\amp, 0.05, \n",
    "        \\att, 0.01.rand, \n",
    "        \\dur, 1.rand, \n",
    "        \\rel, 1.5.rand, \n",
    "        \\pan, 2.rand-1]);\n",
    "    0.05.rand.wait;\n",
    "}}.fork"
   ]
  },
  {
   "cell_type": "markdown",
   "metadata": {},
   "source": [
    "### Noise and Filters"
   ]
  },
  {
   "cell_type": "code",
   "execution_count": 74,
   "metadata": {},
   "outputs": [
    {
     "name": "stdout",
     "output_type": "stream",
     "text": [
      "-> a Routine\n"
     ]
    }
   ],
   "source": [
    "%%sc\n",
    "Routine({\n",
    "    x = { WhiteNoise.ar(0.6) }.play; 1.wait; x.free;\n",
    "    x = { PinkNoise.ar(0.6) }.play;  1.wait; x.free;\n",
    "    x = { BrownNoise.ar(0.6) }.play; 1.wait; x.free;\n",
    "}).play"
   ]
  },
  {
   "cell_type": "code",
   "execution_count": 75,
   "metadata": {},
   "outputs": [],
   "source": [
    "%scs s.scope"
   ]
  },
  {
   "cell_type": "code",
   "execution_count": 76,
   "metadata": {},
   "outputs": [
    {
     "name": "stdout",
     "output_type": "stream",
     "text": [
      "-> Synth('temp__12' : 1231)\n"
     ]
    }
   ],
   "source": [
    "%sc { Dust2.ar(MouseX.kr(1,10000,1), 1) !2}.scope(1, zoom:4);"
   ]
  },
  {
   "cell_type": "code",
   "execution_count": 77,
   "metadata": {},
   "outputs": [
    {
     "name": "stdout",
     "output_type": "stream",
     "text": [
      "-> Synth('temp__13' : 1235)\n"
     ]
    }
   ],
   "source": [
    "%sc { Klank.ar(`[2*[600, 671, 1353, 4723], nil, 0.5*[1.5, 0.5, 0.3, 0.2]], Impulse.ar(1, 0, 0.2))!2 }.play;"
   ]
  },
  {
   "cell_type": "code",
   "execution_count": 78,
   "metadata": {},
   "outputs": [
    {
     "name": "stdout",
     "output_type": "stream",
     "text": [
      "-> Synth('temp__14' : 1238)\n"
     ]
    }
   ],
   "source": [
    "%sc { Klank.ar(`[{5000.rand}!10, nil, {1.0.rand}!10], Impulse.ar(1, 0, 0.2))!2 }.play;"
   ]
  },
  {
   "cell_type": "code",
   "execution_count": 79,
   "metadata": {},
   "outputs": [
    {
     "name": "stdout",
     "output_type": "stream",
     "text": [
      "-> Synth('temp__15' : 1241)\n"
     ]
    }
   ],
   "source": [
    "%%sc \n",
    "{ \n",
    "    DynKlank.ar(`[[200, 671, 1153, 1723], nil, \n",
    "                  MouseX.kr(0.01, 5)*[1, 1, 1, 1]], \n",
    "                PinkNoise.ar(0.007))!2\n",
    "}.play"
   ]
  },
  {
   "cell_type": "code",
   "execution_count": 80,
   "metadata": {},
   "outputs": [
    {
     "name": "stdout",
     "output_type": "stream",
     "text": [
      "-> Synth('temp__16' : 1244)\n"
     ]
    }
   ],
   "source": [
    "%%sc \n",
    "{ Klank.ar(`[ {exprand(200, 8000)}.dup(12), nil, nil ], \n",
    "           PinkNoise.ar(0.007))!2 }.play"
   ]
  },
  {
   "cell_type": "markdown",
   "metadata": {},
   "source": [
    "## Tasks"
   ]
  },
  {
   "cell_type": "markdown",
   "metadata": {},
   "source": [
    "### Task 1:"
   ]
  },
  {
   "cell_type": "markdown",
   "metadata": {},
   "source": [
    "Create a synth that sounds like a water drop \n",
    "* linear increase of pitch of a rather sinusoidal oscillator\n",
    "* amplitude should decay exponentially\n",
    "\n",
    "(optional:) \n",
    "Create a rain simulator where you can control the stochastic density of rain drops\n",
    "* and their chirp speed mean and spread \n",
    "* and amplitude decay speed (mean and spread)\n",
    "* and explore what different dripping collages this can create"
   ]
  },
  {
   "cell_type": "code",
   "execution_count": 81,
   "metadata": {},
   "outputs": [
    {
     "name": "stdout",
     "output_type": "stream",
     "text": [
      "-> a Plotter\n"
     ]
    }
   ],
   "source": [
    "# cue: For an exponential decay (or rise), XLine is a helpful UGen\n",
    "%sc {XLine.kr(start: 1, end: 0.1, dur: 0.5)}.plot(0.5)"
   ]
  },
  {
   "cell_type": "code",
   "execution_count": 82,
   "metadata": {},
   "outputs": [
    {
     "name": "stdout",
     "output_type": "stream",
     "text": [
      "-> XLine\n"
     ]
    }
   ],
   "source": [
    "%sc XLine.help"
   ]
  },
  {
   "cell_type": "code",
   "execution_count": 83,
   "metadata": {},
   "outputs": [
    {
     "name": "stdout",
     "output_type": "stream",
     "text": [
      "-> Synth('temp__17' : 1248)\n"
     ]
    }
   ],
   "source": [
    "%sc {SinOsc.ar(freq: XLine.kr(400, 1000, 0.3), mul: XLine.kr(1, 0.01, 0.2, doneAction: 2))}.play"
   ]
  },
  {
   "cell_type": "code",
   "execution_count": 54,
   "metadata": {},
   "outputs": [
    {
     "name": "stdout",
     "output_type": "stream",
     "text": [
      "-> a Stethoscope\n"
     ]
    }
   ],
   "source": [
    "%sc s.scope"
   ]
  },
  {
   "cell_type": "markdown",
   "metadata": {},
   "source": [
    "here a solution to the problem: but please try yourself before reading the following code"
   ]
  },
  {
   "cell_type": "markdown",
   "metadata": {
    "heading_collapsed": true
   },
   "source": [
    "#### Solution"
   ]
  },
  {
   "cell_type": "code",
   "execution_count": 84,
   "metadata": {
    "hidden": true
   },
   "outputs": [
    {
     "name": "stdout",
     "output_type": "stream",
     "text": [
      "-> a SynthDef\n"
     ]
    }
   ],
   "source": [
    "%%sc \n",
    "SynthDef(\\drop, { | f0=100, f1=500, dur=0.5, amp=0.1, pan=0 |\n",
    "    var sig, fenv, env, s2;\n",
    "    fenv = Line.kr(f0, f1, dur, doneAction: 2);\n",
    "    env = XLine.kr(1, 0.001, dur);\n",
    "    sig = SinOsc.ar(fenv, mul: env);\n",
    "    s2 = Pan2.ar(sig, pan, amp);\n",
    "    Out.ar([0,1], s2);             \n",
    "}).add()"
   ]
  },
  {
   "cell_type": "code",
   "execution_count": 85,
   "metadata": {
    "hidden": true
   },
   "outputs": [
    {
     "name": "stdout",
     "output_type": "stream",
     "text": [
      "-> Synth('drop' : 1249)\n"
     ]
    }
   ],
   "source": [
    "%sc Synth(\\drop, [\\f0, 600, \\f1, 1200, \\dur, 0.05, \\amp, 0.1])"
   ]
  },
  {
   "cell_type": "code",
   "execution_count": 86,
   "metadata": {
    "hidden": true
   },
   "outputs": [
    {
     "name": "stdout",
     "output_type": "stream",
     "text": [
      "-> a Routine\n"
     ]
    }
   ],
   "source": [
    "%%sc \n",
    "{\n",
    "    30.do{\n",
    "        var f0 = 300 + (500.rand);\n",
    "        Synth(\\drop, [\\f0, f0, \n",
    "                      \\f1, f0 + (600.rand), \n",
    "                      \\dur, 0.2.rand,\n",
    "                      \\amp, 0.1.rand,\n",
    "                      \\pan, 2.0.rand -1] );\n",
    "    0.3.rand.wait;\n",
    "    }\n",
    "}.fork"
   ]
  },
  {
   "cell_type": "markdown",
   "metadata": {
    "hidden": true
   },
   "source": [
    "here another possible solution"
   ]
  },
  {
   "cell_type": "code",
   "execution_count": 87,
   "metadata": {
    "hidden": true
   },
   "outputs": [
    {
     "name": "stdout",
     "output_type": "stream",
     "text": [
      "-> a SynthDef\n"
     ]
    }
   ],
   "source": [
    "%%scv\n",
    "SynthDef(\\drop, { | freq=400, dp=600, amp=0.05, dur=2, pan=0 |\n",
    "    var sig, env, fch;\n",
    "    fch = XLine.kr(freq, freq+dp, dur);\n",
    "    sig = SinOsc.ar(fch);\n",
    "    env = EnvGen.kr(Env.perc(0.001, dur, curve: -4), 1.0, doneAction: 2);\n",
    "    Out.ar(0, Pan2.ar(sig, pan, env*amp))\n",
    "}).send(s)"
   ]
  },
  {
   "cell_type": "code",
   "execution_count": 88,
   "metadata": {
    "hidden": true
   },
   "outputs": [
    {
     "name": "stdout",
     "output_type": "stream",
     "text": [
      "-> Synth('drop' : 1280)\n"
     ]
    }
   ],
   "source": [
    "%scv Synth.new(\\drop, [\"freq\", 500, \"dp\", 1200, \"dur\", 0.1]);"
   ]
  },
  {
   "cell_type": "code",
   "execution_count": 89,
   "metadata": {
    "hidden": true
   },
   "outputs": [
    {
     "name": "stdout",
     "output_type": "stream",
     "text": [
      "-> ( 'l': an EventStreamPlayer, 'numChans': 2 )\n"
     ]
    }
   ],
   "source": [
    "%%scv\n",
    "q = q ? ();\n",
    "q.numChans = 2"
   ]
  },
  {
   "cell_type": "code",
   "execution_count": 90,
   "metadata": {
    "hidden": true
   },
   "outputs": [
    {
     "name": "stdout",
     "output_type": "stream",
     "text": [
      "-> a SynthDef\n",
      "[sclang | reached EOF ]\n",
      "[sclang | reached EOF ]\n",
      "[scsynth | reached EOF ]\n"
     ]
    }
   ],
   "source": [
    "%%scv \n",
    "SynthDef(\\FreeVerb2x2, {|outbus, mix = 0.25, room = 0.15, damp = 0.5, amp = 1.0|\n",
    "    var signal;\n",
    "    q.numChans.do{ |i|\n",
    "        signal = In.ar(outbus+i, 1);\n",
    "        ReplaceOut.ar(outbus+i, FreeVerb.ar( signal, mix, room, damp, amp)); \n",
    "    }\n",
    "}).send(s);"
   ]
  },
  {
   "cell_type": "markdown",
   "metadata": {
    "hidden": true
   },
   "source": [
    "here a physically more correct solution, engineered after the [ICAD paper by K. v.d. Doel](http://www.icad.org/websiteV2.0/Conferences/ICAD2004/papers/van_den_doel.pdf)"
   ]
  },
  {
   "cell_type": "code",
   "execution_count": 64,
   "metadata": {
    "hidden": true
   },
   "outputs": [
    {
     "name": "stdout",
     "output_type": "stream",
     "text": [
      "-> a SynthDef\n"
     ]
    }
   ],
   "source": [
    "%%scv\n",
    "SynthDef(\\drop, { |out=0, f0 = 800, u = 10, xi = 0.5, pos=0.5, wid=2, orient=0, gain=0|\n",
    "    var damp = (0.043*f0) + (0.0014*(f0**0.67));\n",
    "    var dur  = damp.reciprocal * 3;\n",
    "    var df   = xi * damp;\n",
    "    var freq = EnvGen.ar(Env( [f0, f0+df], [dur]), doneAction: 2);\n",
    "    var amp  = ((3.0/freq)**1)*u;    // original exp 1.5 -> too strong decrease with f0 \n",
    "    var env  = EnvGen.ar(Env.perc(dur*0.001, dur*0.999, 1, -4));\n",
    "    var sig = SinOsc.ar(freq, mul: gain.dbamp*amp);\n",
    "    Out.ar(out, PanAz.ar(q.numChans, sig, pos, env, wid, orient))\n",
    "}).send(s);"
   ]
  },
  {
   "cell_type": "markdown",
   "metadata": {
    "hidden": true
   },
   "source": [
    "Reverberation is helpful and makes the sound more natural"
   ]
  },
  {
   "cell_type": "code",
   "execution_count": 66,
   "metadata": {
    "hidden": true
   },
   "outputs": [
    {
     "name": "stdout",
     "output_type": "stream",
     "text": [
      "-> Synth('FreeVerb2x2' : 1339)\n"
     ]
    }
   ],
   "source": [
    "%%scv \n",
    "z = Synth(\\FreeVerb2x2, [\\outbus, 0], addAction:\\addToTail);\n",
    "//set reverb settings \n",
    "z.set(\\room, 1);\n",
    "z.set(\\mix, 0.15);\n",
    "z.set(\\damp, 0.8);"
   ]
  },
  {
   "cell_type": "code",
   "execution_count": 77,
   "metadata": {
    "hidden": true
   },
   "outputs": [
    {
     "name": "stdout",
     "output_type": "stream",
     "text": [
      "-> ( 'numChans': 2, 'glevel': 0, 'dt': 1.0 )\n",
      "[scsynth | reached EOF ]\n"
     ]
    }
   ],
   "source": [
    "%%scv \n",
    "q.glevel = (-0);\n",
    "q.dt = 1.0;"
   ]
  },
  {
   "cell_type": "markdown",
   "metadata": {
    "hidden": true
   },
   "source": [
    "now let's listen: it sounds like sounds in a cave"
   ]
  },
  {
   "cell_type": "code",
   "execution_count": 76,
   "metadata": {
    "hidden": true
   },
   "outputs": [
    {
     "name": "stdout",
     "output_type": "stream",
     "text": [
      "-> a Routine\n"
     ]
    }
   ],
   "source": [
    "%%scv\n",
    "{100.do{\n",
    "    var f0 = 1.0.rand.linlin(0, 1, 400, 1000);\n",
    "    var u = 1.0.rand.linlin(0, 1, 1, 20);\n",
    "    var xi = 1.0.rand.linlin(0, 1, 0.1, 20);\n",
    "    var pos = 1.0.rand.linlin(0, 1, -1, 1);\n",
    "    var gain = 1.0.rand.linlin(0, 1, -6, 20) + q.glevel;\n",
    "    Synth.new(\\drop, [\\out, 0, \\pos, pos, \\u, u, \\f0, f0, \\xi, xi, \\gain, gain]); \n",
    "    q.dt.rand.wait;\n",
    "}\n",
    "}.fork"
   ]
  },
  {
   "cell_type": "code",
   "execution_count": 70,
   "metadata": {
    "hidden": true
   },
   "outputs": [
    {
     "name": "stdout",
     "output_type": "stream",
     "text": [
      "-> ( 'numChans': 2, 'glevel': 12, 'dt': 1.0 )\n"
     ]
    }
   ],
   "source": [
    "# increase level by 12 dB if needed\n",
    "%scv q.glevel = q.glevel + 12"
   ]
  },
  {
   "cell_type": "code",
   "execution_count": 73,
   "metadata": {
    "hidden": true
   },
   "outputs": [
    {
     "name": "stdout",
     "output_type": "stream",
     "text": [
      "-> ( 'numChans': 2, 'glevel': -12, 'dt': 1.0 )\n"
     ]
    }
   ],
   "source": [
    "%scv q.glevel = q.glevel - 12"
   ]
  },
  {
   "cell_type": "markdown",
   "metadata": {
    "hidden": true
   },
   "source": [
    "or change maximum random waiting time between drops"
   ]
  },
  {
   "cell_type": "code",
   "execution_count": 75,
   "metadata": {
    "hidden": true
   },
   "outputs": [
    {
     "name": "stdout",
     "output_type": "stream",
     "text": [
      "-> ( 'numChans': 2, 'glevel': -12, 'dt': 0.1 )\n"
     ]
    }
   ],
   "source": [
    "%sc q.dt = 0.1"
   ]
  },
  {
   "cell_type": "code",
   "execution_count": 136,
   "metadata": {
    "hidden": true
   },
   "outputs": [
    {
     "name": "stdout",
     "output_type": "stream",
     "text": [
      "-> sc3nb_remote\n"
     ]
    }
   ],
   "source": [
    "%sc s.freeAll"
   ]
  },
  {
   "cell_type": "code",
   "execution_count": 21,
   "metadata": {
    "hidden": true
   },
   "outputs": [
    {
     "name": "stdout",
     "output_type": "stream",
     "text": [
      "Quitting SCServer... Done.\n",
      "Exiting sclang... Done.\n"
     ]
    }
   ],
   "source": [
    "sc.exit()"
   ]
  },
  {
   "cell_type": "markdown",
   "metadata": {
    "heading_collapsed": true
   },
   "source": [
    "### Task 2:"
   ]
  },
  {
   "cell_type": "markdown",
   "metadata": {
    "hidden": true
   },
   "source": [
    "Create a synth with a sine oscillator whose frequency oscillates itself around its center value with a sinusoidal function, i.e. \n",
    "$$ f = f_0 + df*\\sin(2\\pi f_v t) ) $$\n",
    "and whose amplitude oscillates likewise with another frequency $f_a$.\n",
    "Finally the location should oscillates sinusoidal with a third frequency $f_p$"
   ]
  },
  {
   "cell_type": "markdown",
   "metadata": {
    "code_folding": [
     0
    ],
    "heading_collapsed": true,
    "hidden": true
   },
   "source": [
    "#### Solution (Don't look at it..., try yourself)"
   ]
  },
  {
   "cell_type": "code",
   "execution_count": 87,
   "metadata": {
    "code_folding": [],
    "hidden": true
   },
   "outputs": [
    {
     "name": "stdout",
     "output_type": "stream",
     "text": [
      "\n"
     ]
    }
   ],
   "source": [
    "%%sc \n",
    "x = { | ff=4, dff=20, f0=200, fa=4, dfa=0.2, fo=2| \n",
    "    Pan2.ar(\n",
    "        SinOsc.ar(\n",
    "            SinOsc.ar(ff, mul: dff, add: f0), \n",
    "            SinOsc.ar(fa, mul: dfa, add: dfa)\n",
    "        ), \n",
    "        SinOsc.ar(fo, mul: 1)\n",
    "    )\n",
    "}.play"
   ]
  },
  {
   "cell_type": "code",
   "execution_count": 88,
   "metadata": {
    "hidden": true
   },
   "outputs": [
    {
     "name": "stdout",
     "output_type": "stream",
     "text": [
      "-> Synth('temp__28' : 1017)\n"
     ]
    }
   ],
   "source": [
    "%sc x.set(\\f0, 300)"
   ]
  },
  {
   "cell_type": "code",
   "execution_count": 89,
   "metadata": {
    "hidden": true
   },
   "outputs": [
    {
     "name": "stdout",
     "output_type": "stream",
     "text": [
      "-> Synth('temp__28' : 1017)\n"
     ]
    }
   ],
   "source": [
    "%sc x.set(\\ff, 450)"
   ]
  },
  {
   "cell_type": "code",
   "execution_count": 90,
   "metadata": {
    "hidden": true
   },
   "outputs": [
    {
     "name": "stdout",
     "output_type": "stream",
     "text": [
      "-> Synth('temp__28' : 1017)\n"
     ]
    }
   ],
   "source": [
    "%sc x.set(\\dff, 200)"
   ]
  },
  {
   "cell_type": "code",
   "execution_count": 91,
   "metadata": {
    "hidden": true
   },
   "outputs": [
    {
     "name": "stdout",
     "output_type": "stream",
     "text": [
      "-> Synth('temp__28' : 1017)\n"
     ]
    }
   ],
   "source": [
    "%sc x.set(\\fo, 0.1)"
   ]
  },
  {
   "cell_type": "code",
   "execution_count": 92,
   "metadata": {
    "hidden": true
   },
   "outputs": [
    {
     "name": "stdout",
     "output_type": "stream",
     "text": [
      "-> Synth('temp__28' : 1017)\n"
     ]
    }
   ],
   "source": [
    "%sc x.set(\\fa, 2)"
   ]
  },
  {
   "cell_type": "code",
   "execution_count": 93,
   "metadata": {
    "hidden": true
   },
   "outputs": [
    {
     "name": "stdout",
     "output_type": "stream",
     "text": [
      "-> Synth('temp__28' : 1017)\n"
     ]
    }
   ],
   "source": [
    "%sc x.set(\\dfa, 1)"
   ]
  },
  {
   "cell_type": "code",
   "execution_count": 94,
   "metadata": {
    "hidden": true
   },
   "outputs": [
    {
     "name": "stdout",
     "output_type": "stream",
     "text": [
      "-> ( 'l': an EventStreamPlayer, 'soundon': a Function )\n"
     ]
    }
   ],
   "source": [
    "%%scv \n",
    "q = q ? ();\n",
    "\n",
    "SynthDef(\\mySynth, { |freq=200, amp=1, sFreq=1| \n",
    "    Out.ar(0, SinOsc.ar(freq, mul:amp) * Clip.ar(Saw.ar(sFreq, 5)));\n",
    "}).send(s);\n",
    "\n",
    "q.soundon = { | q, steps = 10 |\n",
    "    q.synarr = steps.collect{ | i |\n",
    "        Synth(\\mySynth, [\\freq, 400.0.rand + 200, \\amp, 0.1, \\sFreq, 15.0.rand]);\n",
    "    };\n",
    "}"
   ]
  },
  {
   "cell_type": "code",
   "execution_count": 95,
   "metadata": {
    "hidden": true
   },
   "outputs": [
    {
     "name": "stdout",
     "output_type": "stream",
     "text": [
      "-> ( 'l': an EventStreamPlayer, 'soundstop': a Function, 'soundon': a Function )\n"
     ]
    }
   ],
   "source": [
    "%%scv \n",
    "q.soundstop = {\n",
    "    q.synarr.do{ |p| p.free};\n",
    "}"
   ]
  },
  {
   "cell_type": "code",
   "execution_count": 96,
   "metadata": {
    "hidden": true
   },
   "outputs": [
    {
     "name": "stdout",
     "output_type": "stream",
     "text": [
      "-> ( 'l': an EventStreamPlayer, 'synarr': [ Synth('mySynth' : 1018), Synth('mySynth' : 1019), Synth('mySynth' : 1020), Synth('mySynth' : 1021), Synth('mySynth' : 1022), Synth('mySynth' : 1023), Synth('mySynth' : 1024), Synth('mySynth' : 1025), Synth('mySynth' : 1026), Synth('mySynth' : 1027) ], 'soundstop': a Function, 'soundon': a Function )\n"
     ]
    }
   ],
   "source": [
    "%scv q.soundon(10)"
   ]
  },
  {
   "cell_type": "code",
   "execution_count": 97,
   "metadata": {
    "hidden": true
   },
   "outputs": [
    {
     "name": "stdout",
     "output_type": "stream",
     "text": [
      "-> [ Synth('mySynth' : 1018), Synth('mySynth' : 1019), Synth('mySynth' : 1020), Synth('mySynth' : 1021), Synth('mySynth' : 1022), Synth('mySynth' : 1023), Synth('mySynth' : 1024), Synth('mySynth' : 1025), Synth('mySynth' : 1026), Synth('mySynth' : 1027) ]\n"
     ]
    }
   ],
   "source": [
    "%sc q.soundstop()"
   ]
  },
  {
   "cell_type": "code",
   "execution_count": 98,
   "metadata": {
    "hidden": true
   },
   "outputs": [
    {
     "name": "stdout",
     "output_type": "stream",
     "text": [
      "\n"
     ]
    }
   ],
   "source": [
    "%sc { SinOsc.ar(1000 + (2 * 44100))}.plot(0.001) // same signal for 2, 3, 4... at sr=44100"
   ]
  },
  {
   "cell_type": "code",
   "execution_count": null,
   "metadata": {
    "hidden": true
   },
   "outputs": [],
   "source": []
  }
 ],
 "metadata": {
  "@webio": {
   "lastCommId": null,
   "lastKernelId": null
  },
  "hide_input": false,
  "kernelspec": {
   "display_name": "New",
   "language": "python",
   "name": "python3"
  },
  "language_info": {
   "codemirror_mode": {
    "name": "ipython",
    "version": 3
   },
   "file_extension": ".py",
   "mimetype": "text/x-python",
   "name": "python",
   "nbconvert_exporter": "python",
   "pygments_lexer": "ipython3",
   "version": "3.13.1"
  },
  "toc": {
   "base_numbering": 1,
   "nav_menu": {},
   "number_sections": true,
   "sideBar": true,
   "skip_h1_title": true,
   "title_cell": "Table of Contents",
   "title_sidebar": "Contents",
   "toc_cell": false,
   "toc_position": {},
   "toc_section_display": true,
   "toc_window_display": false
  },
  "widgets": {
   "state": {
    "19e8712423e2459691b4dc31fad2079c": {
     "views": [
      {
       "cell_index": 41
      }
     ]
    },
    "23f3f5fd003e485aa100c70929e46816": {
     "views": [
      {
       "cell_index": 8
      }
     ]
    },
    "77d970846aea49738b030d37cff0c88c": {
     "views": [
      {
       "cell_index": 48
      }
     ]
    }
   },
   "version": "1.2.0"
  }
 },
 "nbformat": 4,
 "nbformat_minor": 4
}
