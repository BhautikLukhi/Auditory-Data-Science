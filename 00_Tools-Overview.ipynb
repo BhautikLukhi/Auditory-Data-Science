{
 "cells": [
  {
   "cell_type": "markdown",
   "id": "48dcdf20",
   "metadata": {},
   "source": [
    "# Auditory Data Science Course\n",
    "**Exercise - 2025-04-15**"
   ]
  },
  {
   "cell_type": "markdown",
   "id": "d14c4762",
   "metadata": {
    "heading_collapsed": true
   },
   "source": [
    "## Goals for today (and the next two weeks)"
   ]
  },
  {
   "cell_type": "markdown",
   "id": "de6d8045",
   "metadata": {
    "hidden": true
   },
   "source": [
    "- Team forming (min: 2, max: 3 students)\n",
    "- install python, portaudio, pyaudio, SuperCollider, pya\n",
    "- see how to start and use the systems, how to find documentation\n",
    "- crash course sclang and sc3nb\n",
    "- experiment around 2 given sclang and 2 given synthesis tasks\n",
    "- be able to use sc3 via sc3nb from Jupyter notebooks"
   ]
  },
  {
   "cell_type": "markdown",
   "id": "5a05d17c",
   "metadata": {},
   "source": [
    "## Tools & Software"
   ]
  },
  {
   "cell_type": "markdown",
   "id": "b3c38d33",
   "metadata": {
    "heading_collapsed": true
   },
   "source": [
    "### Python (3.10 suffices, 3.13 should also work)"
   ]
  },
  {
   "cell_type": "markdown",
   "id": "c6b0b8a0",
   "metadata": {
    "hidden": true
   },
   "source": [
    "- main language, used for the script and coding\n",
    "- heavily relying on numpy, scipy, matplotlib, and some audio-related packages\n",
    "- in doubt you could use miniconda (from https://www.anaconda.com/docs/getting-started/miniconda/main)"
   ]
  },
  {
   "cell_type": "markdown",
   "id": "56f8971a",
   "metadata": {
    "heading_collapsed": true
   },
   "source": [
    "### Pyaudio "
   ]
  },
  {
   "cell_type": "markdown",
   "id": "c4f0bf19",
   "metadata": {
    "hidden": true
   },
   "source": [
    "- code: https://pypi.org/project/PyAudio/\n",
    "- homepage: https://people.csail.mit.edu/hubert/pyaudio/)\n",
    "- a low-level audio interface around **'portaudio'**: <https://www.portaudio.com>\n",
    "- portaudio installed when using `conda install pyaudio`\n",
    "- otherwise install portaudio yourself (e.g. `brew install portaudio`) before `pip install pyaudio`\n",
    "- supports callback functions called when audio data (blocks) come in, or are needed for output..."
   ]
  },
  {
   "cell_type": "markdown",
   "id": "7609f48b",
   "metadata": {
    "heading_collapsed": true
   },
   "source": [
    "### PyA "
   ]
  },
  {
   "cell_type": "markdown",
   "id": "2a2a6f29",
   "metadata": {
    "hidden": true
   },
   "source": [
    "- a mid/high-level audio coding interface (developed in Bielefeld)\n",
    "- available via PyPI, install via `pip install pya`, \n",
    "    - source at https://github.com/interactive-sonification/pya\n",
    "    - documentation at https://interactive-sonification.github.io/pya\n",
    "- offers concise and powerful ways to manipulate audio (using numpy as signal representation)\n",
    "- offers `Asig` class for audio signals, `Aspec` class for spectra and `Astft` class for spectrograms\n",
    "- offers an `Aserver` and `Arecorder` for audio output and input\n",
    "- rudimentary synthesis via `Ugen` objects\n",
    "- see [examples/pya-examples.ipynb](https://github.com/interactive-sonification/pya/blob/master/examples/pya-examples.ipynb) in github sources"
   ]
  },
  {
   "cell_type": "markdown",
   "id": "0840a52a",
   "metadata": {
    "heading_collapsed": true
   },
   "source": [
    "### LATER: PyA AGens"
   ]
  },
  {
   "cell_type": "markdown",
   "id": "5712e933",
   "metadata": {
    "hidden": true
   },
   "source": [
    " \n",
    "- developed by (L. Born & T. Hermann, ICAD 2025 (in review))\n",
    "- currently in development ($\\to$ release on https://github.com/interactive-sonification/ in June)\n",
    "- concise pythonic python-only audio synthesis, primarily offline, using `Asig` for signals \n",
    "- source / installation / etc: June"
   ]
  },
  {
   "cell_type": "markdown",
   "id": "b6003b49",
   "metadata": {
    "heading_collapsed": true
   },
   "source": [
    "### SuperCollider (sc3)"
   ]
  },
  {
   "cell_type": "markdown",
   "id": "77aac6e6",
   "metadata": {
    "hidden": true
   },
   "source": [
    "- powerful Audio programming language (sclang)\n",
    "- powerful Audio Server (scsynth)\n",
    "- homepage: https://supercollider.github.io\n",
    "- source code: <https://github.com/supercollider/supercollider>\n",
    "- installation: download binary package and install\n",
    "- platform specific additional steps:\n",
    "    - Windows: add path to system path\n",
    "- start GUI-IDE is scide\n",
    "- most platforms have a 'Supercollider app/exe' which starts the IDE\n",
    "- it also offers fast Qt-based GUI classes and data plotting"
   ]
  },
  {
   "cell_type": "markdown",
   "id": "517a03e9",
   "metadata": {
    "heading_collapsed": true
   },
   "source": [
    "### sc3nb (developed in Bielefeld)"
   ]
  },
  {
   "cell_type": "markdown",
   "id": "2df6bb44",
   "metadata": {
    "hidden": true
   },
   "source": [
    "- python interface to facilitate sc3 coding and sc3 control from Python (and Jupyter notebooks)\n",
    "- source: https://github.com/interactive-sonification/sc3nb\n",
    "- documentation: https://sc3nb.readthedocs.io/en/latest/README.html\n",
    "- installation: PyPI: `pip install sc3nb`\n",
    "- fix for Python 3.13. not yet on PyPI! workaround: use\n",
    "    `pip install git+https://github.com/interactive-sonification/sc3nb@develop`"
   ]
  },
  {
   "cell_type": "markdown",
   "id": "898fd0de",
   "metadata": {
    "heading_collapsed": true
   },
   "source": [
    "### LATER: mesonic "
   ]
  },
  {
   "cell_type": "markdown",
   "id": "55ddead8",
   "metadata": {
    "hidden": true
   },
   "source": [
    "- middle-ware for sound computing and sonification\n",
    "- abstraction from rendering backend (sc3nb, pya, csound, ...)\n",
    "- introduces timeline, track, mutable and immutable synths, eventmanager, etc.\n",
    "- basis for high-level sonifications"
   ]
  },
  {
   "cell_type": "markdown",
   "id": "0b685332",
   "metadata": {
    "heading_collapsed": true
   },
   "source": [
    "### LATER: Sonecules"
   ]
  },
  {
   "cell_type": "markdown",
   "id": "f62c41a8",
   "metadata": {
    "hidden": true
   },
   "source": [
    "- 'the matplotlib for sonification'\n",
    "- easy-to-use, end-user-friendly, packaged sonification methods\n",
    "- work in progress, demo closer to the end of the lecture"
   ]
  }
 ],
 "metadata": {
  "kernelspec": {
   "display_name": "Python 3 (ipykernel)",
   "language": "python",
   "name": "python3"
  },
  "language_info": {
   "codemirror_mode": {
    "name": "ipython",
    "version": 3
   },
   "file_extension": ".py",
   "mimetype": "text/x-python",
   "name": "python",
   "nbconvert_exporter": "python",
   "pygments_lexer": "ipython3",
   "version": "3.10.9"
  },
  "toc": {
   "base_numbering": 1,
   "nav_menu": {},
   "number_sections": true,
   "sideBar": true,
   "skip_h1_title": false,
   "title_cell": "Table of Contents",
   "title_sidebar": "Contents",
   "toc_cell": false,
   "toc_position": {},
   "toc_section_display": true,
   "toc_window_display": false
  }
 },
 "nbformat": 4,
 "nbformat_minor": 5
}
